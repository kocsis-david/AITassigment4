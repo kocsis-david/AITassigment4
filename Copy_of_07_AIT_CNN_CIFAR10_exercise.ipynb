{
  "nbformat": 4,
  "nbformat_minor": 0,
  "metadata": {
    "anaconda-cloud": {},
    "kernelspec": {
      "display_name": "Python 3",
      "language": "python",
      "name": "python3"
    },
    "language_info": {
      "codemirror_mode": {
        "name": "ipython",
        "version": 3
      },
      "file_extension": ".py",
      "mimetype": "text/x-python",
      "name": "python",
      "nbconvert_exporter": "python",
      "pygments_lexer": "ipython3",
      "version": "3.6.6"
    },
    "colab": {
      "provenance": [],
      "include_colab_link": true
    },
    "accelerator": "GPU"
  },
  "cells": [
    {
      "cell_type": "markdown",
      "metadata": {
        "id": "view-in-github",
        "colab_type": "text"
      },
      "source": [
        "<a href=\"https://colab.research.google.com/github/kocsis-david/AITassigment4/blob/main/Copy_of_07_AIT_CNN_CIFAR10_exercise.ipynb\" target=\"_parent\"><img src=\"https://colab.research.google.com/assets/colab-badge.svg\" alt=\"Open In Colab\"/></a>"
      ]
    },
    {
      "cell_type": "markdown",
      "metadata": {
        "id": "cW-EyI5Lxpqi"
      },
      "source": [
        "# Copyright\n",
        "\n",
        "<PRE>\n",
        "Copyright (c) 2024 Bálint Gyires-Tóth - All Rights Reserved\n",
        "You may use and modify this code for research and development purpuses.\n",
        "Using this code for educational purposes (self-paced or instructor led) without the permission of the author is prohibited.\n",
        "</PRE>"
      ]
    },
    {
      "cell_type": "markdown",
      "source": [
        "# Convolutional Neural Network exercise\n",
        "\n",
        "In this notebook, you will build a convolutional neural network, which offers superior results over the previous MLP solution. Additionally, you will perform a more detailed evaluation."
      ],
      "metadata": {
        "id": "3EX4cCa4WKJu"
      }
    },
    {
      "cell_type": "code",
      "source": [
        "# imports\n",
        "from tensorflow.keras.datasets import cifar10\n",
        "from tensorflow.keras.utils import to_categorical\n",
        "import numpy as np\n",
        "import matplotlib.pyplot as plt\n",
        "from tensorflow.keras.models import Sequential\n",
        "from tensorflow.keras.layers import Dense, Conv2D, MaxPool2D, Flatten, Dropout, BatchNormalization\n",
        "from tensorflow.keras.initializers import HeNormal\n",
        "from tensorflow.keras.callbacks import EarlyStopping"
      ],
      "metadata": {
        "id": "GdCMhy4HA2qd"
      },
      "execution_count": 3,
      "outputs": []
    },
    {
      "cell_type": "markdown",
      "source": [
        "# 1. Data\n",
        "The dataset we will use is the well-known CIFAR10 (Canadian Institute For Advanced Research). Explore the details on the Keras website first: https://keras.io/api/datasets/cifar10/\n",
        "\n",
        "There isn't much difference between the data preprocessing part and the one we did before. The only difference is that we don't have to reshape images into vectors, but we are working with a 4 dimensional data structure, where the dimensions are: batch, X, Y, and color channels.\n",
        "\n",
        "In the event that anything is not clear regarding the data preparation part, please check the previous CIFAR10 notebook."
      ],
      "metadata": {
        "id": "yY9fztIeWIKt"
      }
    },
    {
      "cell_type": "code",
      "source": [
        "(X_train, Y_train), (X_test, Y_test) = cifar10.load_data()"
      ],
      "metadata": {
        "id": "bez7q0eiWQCK",
        "colab": {
          "base_uri": "https://localhost:8080/"
        },
        "outputId": "cee33efa-dae3-4cbf-adc3-e37f99b18b9e"
      },
      "execution_count": 4,
      "outputs": [
        {
          "output_type": "stream",
          "name": "stdout",
          "text": [
            "Downloading data from https://www.cs.toronto.edu/~kriz/cifar-10-python.tar.gz\n",
            "170498071/170498071 [==============================] - 4s 0us/step\n"
          ]
        }
      ]
    },
    {
      "cell_type": "code",
      "source": [
        "# it is in int8 format, the neural network requires float32\n",
        "X_train = X_train.astype(\"float32\")\n",
        "X_test = X_test.astype(\"float32\")"
      ],
      "metadata": {
        "id": "vukOcBM0XzSj"
      },
      "execution_count": 5,
      "outputs": []
    },
    {
      "cell_type": "code",
      "source": [
        "train_ratio  = 0.8\n",
        "train_length = X_train.shape[0]\n",
        "train_split  = int(train_ratio*train_length)\n",
        "X_valid, Y_valid = X_train[train_split:], Y_train[train_split:]\n",
        "X_train, Y_train = X_train[:train_split], Y_train[:train_split]"
      ],
      "metadata": {
        "id": "mRwuWxxIxLgN"
      },
      "execution_count": 6,
      "outputs": []
    },
    {
      "cell_type": "code",
      "source": [
        "mean = X_train.mean(axis=0)\n",
        "std  = X_train.std(axis=0)\n",
        "\n",
        "X_train = (X_train-mean)/std\n",
        "X_valid = (X_valid-mean)/std\n",
        "X_test  = (X_test-mean)/std"
      ],
      "metadata": {
        "id": "2ESLP1EIyB2J"
      },
      "execution_count": 7,
      "outputs": []
    },
    {
      "cell_type": "code",
      "source": [
        "nb_classes = len(np.unique(Y_train))\n",
        "Y_train = to_categorical(Y_train, nb_classes)\n",
        "Y_valid = to_categorical(Y_valid, nb_classes)\n",
        "Y_test  = to_categorical(Y_test, nb_classes)\n",
        "\n"
      ],
      "metadata": {
        "id": "xwZ4OJ6I8lba"
      },
      "execution_count": 8,
      "outputs": []
    },
    {
      "cell_type": "code",
      "source": [
        "print(\"Shapes of the training, validation and test input data:\", X_train.shape, X_valid.shape, X_test.shape)\n",
        "print(\"Shapes of the training, validation and test output data:\", Y_train.shape, Y_valid.shape, Y_test.shape)\n",
        "print(\"Mean values of the training, validation and test input data:\", X_train.mean(), X_valid.mean(), X_test.mean())\n",
        "print(\"Standard deviation of the training, validation and test input data:\", X_train.std(), X_valid.std(), X_test.std())"
      ],
      "metadata": {
        "id": "O_jdJVcvX0vi",
        "colab": {
          "base_uri": "https://localhost:8080/"
        },
        "outputId": "905e00c8-e3c8-43b2-d188-13fa6cfc2fd1"
      },
      "execution_count": 9,
      "outputs": [
        {
          "output_type": "stream",
          "name": "stdout",
          "text": [
            "Shapes of the training, validation and test input data: (40000, 32, 32, 3) (10000, 32, 32, 3) (10000, 32, 32, 3)\n",
            "Shapes of the training, validation and test output data: (40000, 10) (10000, 10) (10000, 10)\n",
            "Mean values of the training, validation and test input data: 2.2788842e-09 0.0023437198 0.013331206\n",
            "Standard deviation of the training, validation and test input data: 1.0000023 0.9965626 0.99783075\n"
          ]
        }
      ]
    },
    {
      "cell_type": "markdown",
      "metadata": {
        "id": "cJ14oyZExpqj"
      },
      "source": [
        "# 2. Exercise: training"
      ]
    },
    {
      "cell_type": "markdown",
      "source": [
        "Create and train a convolutional neural network with the following requirements:\n",
        "* apply early stopping with patience=5 and monitor the validation accuracy, don't forget to load back the best weights after early stopping\n",
        "* the number of trainable parameters is lower than 200.000\n",
        "* the validation accuracy must be higher than 72%\n",
        "\n",
        "Hints:\n",
        "* you can always inspect the number of trainable parameters per layer with model.summary()\n",
        "* usually the most trainable parameters are between the last convolutional layer and the next dense layer -- so you should have a reasonable output size at the last convolutional layer\n",
        "* regularization helps (e.g. DropOut and/or BatchNormalization)\n",
        "* use the right activation function at the output layer and the corresponding loss function\n",
        "* for the chosen activation functions, please use the appropriate initialization method\n",
        "* you can match the dimension of the last conv/pooling layer to the next dense layer with e.g. Flatten()\n",
        "* ADAM optimizer is a reasonable choice\n",
        "* don't forget to turn on GPU support in Colab, otherwise, it would be quite slow to train the networks\n",
        "\n"
      ],
      "metadata": {
        "id": "j1tGVPdD-pp3"
      }
    },
    {
      "cell_type": "code",
      "source": [
        "es = EarlyStopping(monitor='val_loss', mode='min', verbose=1, patience=5, restore_best_weights=True)"
      ],
      "metadata": {
        "id": "5dBQxJHIHrbd"
      },
      "execution_count": 64,
      "outputs": []
    },
    {
      "cell_type": "code",
      "source": [
        "# model definition\n",
        "model = Sequential()\n",
        "model.add(Conv2D(64, (5, 5), activation='relu', kernel_initializer=HeNormal(), padding='same', input_shape=(32, 32, 3)))\n",
        "model.add(BatchNormalization())\n",
        "model.add(MaxPool2D((2, 2)))\n",
        "model.add(Conv2D(32, (3, 3), activation='relu', kernel_initializer=HeNormal(), padding='same'))\n",
        "model.add(BatchNormalization())\n",
        "model.add(MaxPool2D((2, 2)))\n",
        "model.add(Dropout(0.2))\n",
        "model.add(Conv2D(32, (3, 3), activation='relu', kernel_initializer=HeNormal(), padding='same'))\n",
        "model.add(BatchNormalization())\n",
        "model.add(MaxPool2D((2, 2)))\n",
        "model.add(Flatten())\n",
        "model.add(Dense(10, activation='softmax'))\n",
        "\n",
        "\n",
        "\n",
        "# loss function and optimizer\n",
        "model.compile(loss='categorical_crossentropy', optimizer='adam', metrics=['accuracy'])"
      ],
      "metadata": {
        "id": "PuxHOqLt-3Nd"
      },
      "execution_count": 70,
      "outputs": []
    },
    {
      "cell_type": "code",
      "source": [
        "model.summary()"
      ],
      "metadata": {
        "id": "5eomQw8uE9Ix",
        "colab": {
          "base_uri": "https://localhost:8080/"
        },
        "outputId": "672ed6e4-3352-4e66-f7f7-6298b5d44efe"
      },
      "execution_count": 71,
      "outputs": [
        {
          "output_type": "stream",
          "name": "stdout",
          "text": [
            "Model: \"sequential_16\"\n",
            "_________________________________________________________________\n",
            " Layer (type)                Output Shape              Param #   \n",
            "=================================================================\n",
            " conv2d_48 (Conv2D)          (None, 32, 32, 64)        4864      \n",
            "                                                                 \n",
            " batch_normalization_48 (Ba  (None, 32, 32, 64)        256       \n",
            " tchNormalization)                                               \n",
            "                                                                 \n",
            " max_pooling2d_29 (MaxPooli  (None, 16, 16, 64)        0         \n",
            " ng2D)                                                           \n",
            "                                                                 \n",
            " conv2d_49 (Conv2D)          (None, 16, 16, 32)        18464     \n",
            "                                                                 \n",
            " batch_normalization_49 (Ba  (None, 16, 16, 32)        128       \n",
            " tchNormalization)                                               \n",
            "                                                                 \n",
            " max_pooling2d_30 (MaxPooli  (None, 8, 8, 32)          0         \n",
            " ng2D)                                                           \n",
            "                                                                 \n",
            " dropout_16 (Dropout)        (None, 8, 8, 32)          0         \n",
            "                                                                 \n",
            " conv2d_50 (Conv2D)          (None, 8, 8, 32)          9248      \n",
            "                                                                 \n",
            " batch_normalization_50 (Ba  (None, 8, 8, 32)          128       \n",
            " tchNormalization)                                               \n",
            "                                                                 \n",
            " max_pooling2d_31 (MaxPooli  (None, 4, 4, 32)          0         \n",
            " ng2D)                                                           \n",
            "                                                                 \n",
            " flatten_11 (Flatten)        (None, 512)               0         \n",
            "                                                                 \n",
            " dense_32 (Dense)            (None, 10)                5130      \n",
            "                                                                 \n",
            "=================================================================\n",
            "Total params: 38218 (149.29 KB)\n",
            "Trainable params: 37962 (148.29 KB)\n",
            "Non-trainable params: 256 (1.00 KB)\n",
            "_________________________________________________________________\n"
          ]
        }
      ]
    },
    {
      "cell_type": "markdown",
      "source": [
        "Please, check the number of trainable paramers:"
      ],
      "metadata": {
        "id": "8tIbIIeTEI41"
      }
    },
    {
      "cell_type": "code",
      "source": [
        "print(\"#trainable parameters:\",model.count_params())"
      ],
      "metadata": {
        "id": "xdBAG7EJETlX",
        "colab": {
          "base_uri": "https://localhost:8080/"
        },
        "outputId": "531986d0-05b1-472e-e27e-df36c682008a"
      },
      "execution_count": 72,
      "outputs": [
        {
          "output_type": "stream",
          "name": "stdout",
          "text": [
            "#trainable parameters: 38218\n"
          ]
        }
      ]
    },
    {
      "cell_type": "code",
      "source": [
        "network_history = model.fit(X_train, Y_train, epochs=100, batch_size=64, validation_data=(X_valid, Y_valid), callbacks=[es])"
      ],
      "metadata": {
        "id": "u8tFNCNVHyt9",
        "colab": {
          "base_uri": "https://localhost:8080/"
        },
        "outputId": "96c510bc-9680-422e-f512-a35fc5772c42"
      },
      "execution_count": 73,
      "outputs": [
        {
          "output_type": "stream",
          "name": "stdout",
          "text": [
            "Epoch 1/100\n",
            "625/625 [==============================] - 8s 9ms/step - loss: 1.5390 - accuracy: 0.4584 - val_loss: 1.2427 - val_accuracy: 0.5638\n",
            "Epoch 2/100\n",
            "625/625 [==============================] - 5s 7ms/step - loss: 1.1613 - accuracy: 0.5914 - val_loss: 1.0599 - val_accuracy: 0.6278\n",
            "Epoch 3/100\n",
            "625/625 [==============================] - 5s 8ms/step - loss: 1.0201 - accuracy: 0.6381 - val_loss: 0.9918 - val_accuracy: 0.6578\n",
            "Epoch 4/100\n",
            "625/625 [==============================] - 5s 7ms/step - loss: 0.9352 - accuracy: 0.6744 - val_loss: 0.9227 - val_accuracy: 0.6759\n",
            "Epoch 5/100\n",
            "625/625 [==============================] - 5s 7ms/step - loss: 0.8732 - accuracy: 0.6948 - val_loss: 0.9096 - val_accuracy: 0.6827\n",
            "Epoch 6/100\n",
            "625/625 [==============================] - 5s 8ms/step - loss: 0.8227 - accuracy: 0.7138 - val_loss: 0.8583 - val_accuracy: 0.7003\n",
            "Epoch 7/100\n",
            "625/625 [==============================] - 5s 7ms/step - loss: 0.7831 - accuracy: 0.7268 - val_loss: 0.8206 - val_accuracy: 0.7164\n",
            "Epoch 8/100\n",
            "625/625 [==============================] - 5s 8ms/step - loss: 0.7488 - accuracy: 0.7400 - val_loss: 0.8271 - val_accuracy: 0.7203\n",
            "Epoch 9/100\n",
            "625/625 [==============================] - 5s 8ms/step - loss: 0.7236 - accuracy: 0.7494 - val_loss: 0.7926 - val_accuracy: 0.7310\n",
            "Epoch 10/100\n",
            "625/625 [==============================] - 4s 7ms/step - loss: 0.7031 - accuracy: 0.7520 - val_loss: 0.7935 - val_accuracy: 0.7323\n",
            "Epoch 11/100\n",
            "625/625 [==============================] - 5s 8ms/step - loss: 0.6794 - accuracy: 0.7634 - val_loss: 0.7820 - val_accuracy: 0.7322\n",
            "Epoch 12/100\n",
            "625/625 [==============================] - 5s 7ms/step - loss: 0.6556 - accuracy: 0.7703 - val_loss: 0.7655 - val_accuracy: 0.7427\n",
            "Epoch 13/100\n",
            "625/625 [==============================] - 6s 10ms/step - loss: 0.6487 - accuracy: 0.7732 - val_loss: 0.7561 - val_accuracy: 0.7472\n",
            "Epoch 14/100\n",
            "625/625 [==============================] - 5s 8ms/step - loss: 0.6342 - accuracy: 0.7806 - val_loss: 0.7581 - val_accuracy: 0.7453\n",
            "Epoch 15/100\n",
            "625/625 [==============================] - 5s 7ms/step - loss: 0.6183 - accuracy: 0.7831 - val_loss: 0.7672 - val_accuracy: 0.7418\n",
            "Epoch 16/100\n",
            "625/625 [==============================] - 5s 8ms/step - loss: 0.6022 - accuracy: 0.7886 - val_loss: 0.7539 - val_accuracy: 0.7454\n",
            "Epoch 17/100\n",
            "625/625 [==============================] - 5s 8ms/step - loss: 0.5926 - accuracy: 0.7916 - val_loss: 0.7725 - val_accuracy: 0.7408\n",
            "Epoch 18/100\n",
            "625/625 [==============================] - 5s 8ms/step - loss: 0.5813 - accuracy: 0.7969 - val_loss: 0.7610 - val_accuracy: 0.7503\n",
            "Epoch 19/100\n",
            "625/625 [==============================] - 5s 7ms/step - loss: 0.5703 - accuracy: 0.7997 - val_loss: 0.7731 - val_accuracy: 0.7394\n",
            "Epoch 20/100\n",
            "625/625 [==============================] - 5s 7ms/step - loss: 0.5679 - accuracy: 0.8004 - val_loss: 0.7527 - val_accuracy: 0.7533\n",
            "Epoch 21/100\n",
            "625/625 [==============================] - 5s 8ms/step - loss: 0.5520 - accuracy: 0.8044 - val_loss: 0.7492 - val_accuracy: 0.7531\n",
            "Epoch 22/100\n",
            "625/625 [==============================] - 5s 8ms/step - loss: 0.5531 - accuracy: 0.8062 - val_loss: 0.7578 - val_accuracy: 0.7534\n",
            "Epoch 23/100\n",
            "625/625 [==============================] - 5s 8ms/step - loss: 0.5392 - accuracy: 0.8094 - val_loss: 0.7480 - val_accuracy: 0.7564\n",
            "Epoch 24/100\n",
            "625/625 [==============================] - 5s 7ms/step - loss: 0.5303 - accuracy: 0.8130 - val_loss: 0.7653 - val_accuracy: 0.7521\n",
            "Epoch 25/100\n",
            "625/625 [==============================] - 5s 8ms/step - loss: 0.5304 - accuracy: 0.8134 - val_loss: 0.7388 - val_accuracy: 0.7514\n",
            "Epoch 26/100\n",
            "625/625 [==============================] - 5s 8ms/step - loss: 0.5126 - accuracy: 0.8180 - val_loss: 0.7591 - val_accuracy: 0.7491\n",
            "Epoch 27/100\n",
            "625/625 [==============================] - 5s 8ms/step - loss: 0.5141 - accuracy: 0.8200 - val_loss: 0.7260 - val_accuracy: 0.7629\n",
            "Epoch 28/100\n",
            "625/625 [==============================] - 5s 8ms/step - loss: 0.5124 - accuracy: 0.8178 - val_loss: 0.7639 - val_accuracy: 0.7564\n",
            "Epoch 29/100\n",
            "625/625 [==============================] - 5s 8ms/step - loss: 0.5001 - accuracy: 0.8241 - val_loss: 0.7361 - val_accuracy: 0.7617\n",
            "Epoch 30/100\n",
            "625/625 [==============================] - 5s 8ms/step - loss: 0.4988 - accuracy: 0.8242 - val_loss: 0.7418 - val_accuracy: 0.7581\n",
            "Epoch 31/100\n",
            "625/625 [==============================] - 5s 9ms/step - loss: 0.4882 - accuracy: 0.8263 - val_loss: 0.7432 - val_accuracy: 0.7617\n",
            "Epoch 32/100\n",
            "622/625 [============================>.] - ETA: 0s - loss: 0.4859 - accuracy: 0.8273Restoring model weights from the end of the best epoch: 27.\n",
            "625/625 [==============================] - 5s 8ms/step - loss: 0.4862 - accuracy: 0.8273 - val_loss: 0.7342 - val_accuracy: 0.7661\n",
            "Epoch 32: early stopping\n"
          ]
        }
      ]
    },
    {
      "cell_type": "markdown",
      "source": [
        "# 3. Exercise: evaluation on test data\n",
        "You will evaluate the classification of the test data using the common metrics and the confusion matrix in this section.\n",
        "\n",
        "\n",
        "As a first stes, let's run the predictions and convert the predicted softmax outputs to dense labels. The one-hot encoded labels are also converted back to dense labels, as they are required for the evaluation functions."
      ],
      "metadata": {
        "id": "2FtKp-a2-A9m"
      }
    },
    {
      "cell_type": "code",
      "source": [
        "probas = model.predict(X_test)\n",
        "preds  = np.argmax(probas,axis=1)\n",
        "Y_test_dense = np.argmax(Y_test, axis=1) # get the original dense labels of the test data"
      ],
      "metadata": {
        "id": "EcWAqwlDMq3y",
        "colab": {
          "base_uri": "https://localhost:8080/"
        },
        "outputId": "e5a7160c-0415-44b8-a2bc-37dd4d2c4136"
      },
      "execution_count": 74,
      "outputs": [
        {
          "output_type": "stream",
          "name": "stdout",
          "text": [
            "313/313 [==============================] - 1s 2ms/step\n"
          ]
        }
      ]
    },
    {
      "cell_type": "markdown",
      "source": [
        "## 3.1. Exercise: Metrics\n",
        "please review the common classification metrics (accuracy, precision, recall, F1) for the complete model (not per class).\n",
        "\n",
        "Hints:\n",
        "* use macro averaging\n",
        "* you have to import the right functions from [sklearn.metrics](https://scikit-learn.org/stable/modules/model_evaluation.html)\n"
      ],
      "metadata": {
        "id": "RWJ-PH_iMs9K"
      }
    },
    {
      "cell_type": "code",
      "source": [
        "from sklearn.metrics import accuracy_score, precision_score, recall_score, f1_score\n",
        "\n"
      ],
      "metadata": {
        "id": "5sKm5zHSMZ_x"
      },
      "execution_count": 75,
      "outputs": []
    },
    {
      "cell_type": "code",
      "source": [
        "print(\"Accuracy:\", accuracy_score(Y_test_dense, preds))\n",
        "print(\"Precision:\",precision_score(Y_test_dense, preds, average='macro'))\n",
        "print(\"Recall:\",recall_score(Y_test_dense, preds, average='macro'))\n",
        "print(\"F1:\",f1_score(Y_test_dense, preds, average='macro'))"
      ],
      "metadata": {
        "id": "I3_9wgDREUna",
        "colab": {
          "base_uri": "https://localhost:8080/"
        },
        "outputId": "966ca473-6430-4243-f9e9-eaa9db3467ec"
      },
      "execution_count": 76,
      "outputs": [
        {
          "output_type": "stream",
          "name": "stdout",
          "text": [
            "Accuracy: 0.7574\n",
            "Precision: 0.7559628755559087\n",
            "Recall: 0.7574\n",
            "F1: 0.7540259582187833\n"
          ]
        }
      ]
    },
    {
      "cell_type": "markdown",
      "source": [
        "\n",
        "## 3.2. Exercise: Confusion matrix\n",
        "Calculate the confusion matrix and display the results in a heatmap (with decimal values).\n",
        "\n",
        "Hints:\n",
        "* you have to do the imports this time too, e.g. from [sklearn.metrics](https://scikit-learn.org/stable/modules/model_evaluation.html) and the [heatmap function](https://seaborn.pydata.org/generated/seaborn.heatmap.html) of [seaborn](https://seaborn.pydata.org/)\n",
        "* for displaying the decimal values, you have to turn annot=True and define fmt='d' in the heatmap function of seaborn"
      ],
      "metadata": {
        "id": "ECHguBFtGL7f"
      }
    },
    {
      "cell_type": "code",
      "source": [
        "from sklearn.metrics import confusion_matrix\n",
        "import seaborn as sns"
      ],
      "metadata": {
        "id": "SIi2VzMBO3yD"
      },
      "execution_count": 77,
      "outputs": []
    },
    {
      "cell_type": "code",
      "metadata": {
        "id": "cdqODx92Svw7",
        "colab": {
          "base_uri": "https://localhost:8080/",
          "height": 540
        },
        "outputId": "2465283f-99fc-4d7a-8602-e00f1b387e67"
      },
      "source": [
        "conf = confusion_matrix(Y_test_dense, preds)\n",
        "plt.figure(figsize=(7,6))\n",
        "sns.heatmap(conf, annot=True, fmt='d', cmap='Blues')"
      ],
      "execution_count": 78,
      "outputs": [
        {
          "output_type": "execute_result",
          "data": {
            "text/plain": [
              "<Axes: >"
            ]
          },
          "metadata": {},
          "execution_count": 78
        },
        {
          "output_type": "display_data",
          "data": {
            "text/plain": [
              "<Figure size 700x600 with 2 Axes>"
            ],
            "image/png": "[encoded data removed]"
          },
          "metadata": {}
        }
      ]
    }
  ]
}